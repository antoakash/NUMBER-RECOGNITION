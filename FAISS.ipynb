{
 "cells": [
  {
   "cell_type": "code",
   "execution_count": 2,
   "id": "1058cf8b",
   "metadata": {},
   "outputs": [
    {
     "name": "stdout",
     "output_type": "stream",
     "text": [
      "Requirement already satisfied: faiss-cpu in /Users/akash/anaconda3/lib/python3.11/site-packages (1.7.4)\n",
      "Collecting sentence-transformers\n",
      "  Downloading sentence-transformers-2.2.2.tar.gz (85 kB)\n",
      "\u001b[2K     \u001b[90m━━━━━━━━━━━━━━━━━━━━━━━━━━━━━━━━━━━━━━━━\u001b[0m \u001b[32m86.0/86.0 kB\u001b[0m \u001b[31m1.3 MB/s\u001b[0m eta \u001b[36m0:00:00\u001b[0ma \u001b[36m0:00:01\u001b[0m\n",
      "\u001b[?25h  Preparing metadata (setup.py) ... \u001b[?25ldone\n",
      "\u001b[?25hRequirement already satisfied: transformers<5.0.0,>=4.6.0 in /Users/akash/anaconda3/lib/python3.11/site-packages (from sentence-transformers) (4.32.1)\n",
      "Requirement already satisfied: tqdm in /Users/akash/anaconda3/lib/python3.11/site-packages (from sentence-transformers) (4.65.0)\n",
      "Collecting torch>=1.6.0 (from sentence-transformers)\n",
      "  Obtaining dependency information for torch>=1.6.0 from https://files.pythonhosted.org/packages/7b/7c/4d8728e6f8dbe2b8af054bd92c290d94c633270443514e3ee4b768125cf9/torch-2.1.0-cp311-none-macosx_11_0_arm64.whl.metadata\n",
      "  Downloading torch-2.1.0-cp311-none-macosx_11_0_arm64.whl.metadata (24 kB)\n",
      "Collecting torchvision (from sentence-transformers)\n",
      "  Obtaining dependency information for torchvision from https://files.pythonhosted.org/packages/dd/48/85ef87f1548620d7c3743cbe135b90d8cf673fc7b8594361917558d765b6/torchvision-0.16.0-cp311-cp311-macosx_11_0_arm64.whl.metadata\n",
      "  Downloading torchvision-0.16.0-cp311-cp311-macosx_11_0_arm64.whl.metadata (6.6 kB)\n",
      "Requirement already satisfied: numpy in /Users/akash/anaconda3/lib/python3.11/site-packages (from sentence-transformers) (1.24.3)\n",
      "Requirement already satisfied: scikit-learn in /Users/akash/anaconda3/lib/python3.11/site-packages (from sentence-transformers) (1.3.0)\n",
      "Requirement already satisfied: scipy in /Users/akash/anaconda3/lib/python3.11/site-packages (from sentence-transformers) (1.11.1)\n",
      "Requirement already satisfied: nltk in /Users/akash/anaconda3/lib/python3.11/site-packages (from sentence-transformers) (3.8.1)\n",
      "Collecting sentencepiece (from sentence-transformers)\n",
      "  Downloading sentencepiece-0.1.99-cp311-cp311-macosx_11_0_arm64.whl (1.2 MB)\n",
      "\u001b[2K     \u001b[90m━━━━━━━━━━━━━━━━━━━━━━━━━━━━━━━━━━━━━━━━\u001b[0m \u001b[32m1.2/1.2 MB\u001b[0m \u001b[31m13.9 MB/s\u001b[0m eta \u001b[36m0:00:00\u001b[0m00:01\u001b[0m00:01\u001b[0m\n",
      "\u001b[?25hRequirement already satisfied: huggingface-hub>=0.4.0 in /Users/akash/anaconda3/lib/python3.11/site-packages (from sentence-transformers) (0.15.1)\n",
      "Requirement already satisfied: filelock in /Users/akash/anaconda3/lib/python3.11/site-packages (from huggingface-hub>=0.4.0->sentence-transformers) (3.9.0)\n",
      "Requirement already satisfied: fsspec in /Users/akash/anaconda3/lib/python3.11/site-packages (from huggingface-hub>=0.4.0->sentence-transformers) (2023.4.0)\n",
      "Requirement already satisfied: requests in /Users/akash/anaconda3/lib/python3.11/site-packages (from huggingface-hub>=0.4.0->sentence-transformers) (2.31.0)\n",
      "Requirement already satisfied: pyyaml>=5.1 in /Users/akash/anaconda3/lib/python3.11/site-packages (from huggingface-hub>=0.4.0->sentence-transformers) (6.0)\n",
      "Requirement already satisfied: typing-extensions>=3.7.4.3 in /Users/akash/anaconda3/lib/python3.11/site-packages (from huggingface-hub>=0.4.0->sentence-transformers) (4.7.1)\n",
      "Requirement already satisfied: packaging>=20.9 in /Users/akash/anaconda3/lib/python3.11/site-packages (from huggingface-hub>=0.4.0->sentence-transformers) (23.1)\n",
      "Requirement already satisfied: sympy in /Users/akash/anaconda3/lib/python3.11/site-packages (from torch>=1.6.0->sentence-transformers) (1.11.1)\n",
      "Requirement already satisfied: networkx in /Users/akash/anaconda3/lib/python3.11/site-packages (from torch>=1.6.0->sentence-transformers) (3.1)\n",
      "Requirement already satisfied: jinja2 in /Users/akash/anaconda3/lib/python3.11/site-packages (from torch>=1.6.0->sentence-transformers) (3.1.2)\n",
      "Requirement already satisfied: regex!=2019.12.17 in /Users/akash/anaconda3/lib/python3.11/site-packages (from transformers<5.0.0,>=4.6.0->sentence-transformers) (2022.7.9)\n",
      "Requirement already satisfied: tokenizers!=0.11.3,<0.14,>=0.11.1 in /Users/akash/anaconda3/lib/python3.11/site-packages (from transformers<5.0.0,>=4.6.0->sentence-transformers) (0.13.2)\n",
      "Requirement already satisfied: safetensors>=0.3.1 in /Users/akash/anaconda3/lib/python3.11/site-packages (from transformers<5.0.0,>=4.6.0->sentence-transformers) (0.3.2)\n",
      "Requirement already satisfied: click in /Users/akash/anaconda3/lib/python3.11/site-packages (from nltk->sentence-transformers) (8.0.4)\n",
      "Requirement already satisfied: joblib in /Users/akash/anaconda3/lib/python3.11/site-packages (from nltk->sentence-transformers) (1.2.0)\n",
      "Requirement already satisfied: threadpoolctl>=2.0.0 in /Users/akash/anaconda3/lib/python3.11/site-packages (from scikit-learn->sentence-transformers) (2.2.0)\n",
      "Requirement already satisfied: pillow!=8.3.*,>=5.3.0 in /Users/akash/anaconda3/lib/python3.11/site-packages (from torchvision->sentence-transformers) (9.4.0)\n",
      "Requirement already satisfied: MarkupSafe>=2.0 in /Users/akash/anaconda3/lib/python3.11/site-packages (from jinja2->torch>=1.6.0->sentence-transformers) (2.1.1)\n",
      "Requirement already satisfied: charset-normalizer<4,>=2 in /Users/akash/anaconda3/lib/python3.11/site-packages (from requests->huggingface-hub>=0.4.0->sentence-transformers) (2.0.4)\n",
      "Requirement already satisfied: idna<4,>=2.5 in /Users/akash/anaconda3/lib/python3.11/site-packages (from requests->huggingface-hub>=0.4.0->sentence-transformers) (3.4)\n",
      "Requirement already satisfied: urllib3<3,>=1.21.1 in /Users/akash/anaconda3/lib/python3.11/site-packages (from requests->huggingface-hub>=0.4.0->sentence-transformers) (1.26.16)\n",
      "Requirement already satisfied: certifi>=2017.4.17 in /Users/akash/anaconda3/lib/python3.11/site-packages (from requests->huggingface-hub>=0.4.0->sentence-transformers) (2023.7.22)\n",
      "Requirement already satisfied: mpmath>=0.19 in /Users/akash/anaconda3/lib/python3.11/site-packages (from sympy->torch>=1.6.0->sentence-transformers) (1.3.0)\n",
      "Downloading torch-2.1.0-cp311-none-macosx_11_0_arm64.whl (59.6 MB)\n",
      "\u001b[2K   \u001b[90m━━━━━━━━━━━━━━━━━━━━━━━━━━━━━━━━━━━━━━━━\u001b[0m \u001b[32m59.6/59.6 MB\u001b[0m \u001b[31m28.6 MB/s\u001b[0m eta \u001b[36m0:00:00\u001b[0m00:01\u001b[0m00:01\u001b[0m\n",
      "\u001b[?25hDownloading torchvision-0.16.0-cp311-cp311-macosx_11_0_arm64.whl (1.6 MB)\n",
      "\u001b[2K   \u001b[90m━━━━━━━━━━━━━━━━━━━━━━━━━━━━━━━━━━━━━━━━\u001b[0m \u001b[32m1.6/1.6 MB\u001b[0m \u001b[31m36.2 MB/s\u001b[0m eta \u001b[36m0:00:00\u001b[0ma \u001b[36m0:00:01\u001b[0m\n",
      "\u001b[?25hBuilding wheels for collected packages: sentence-transformers\n",
      "  Building wheel for sentence-transformers (setup.py) ... \u001b[?25ldone\n",
      "\u001b[?25h  Created wheel for sentence-transformers: filename=sentence_transformers-2.2.2-py3-none-any.whl size=125925 sha256=15731a10123d600ed94040a3534ab45958f865c61782990d20374654437c8b18\n",
      "  Stored in directory: /Users/akash/Library/Caches/pip/wheels/ff/27/bf/ffba8b318b02d7f691a57084ee154e26ed24d012b0c7805881\n",
      "Successfully built sentence-transformers\n",
      "Installing collected packages: sentencepiece, torch, torchvision, sentence-transformers\n",
      "Successfully installed sentence-transformers-2.2.2 sentencepiece-0.1.99 torch-2.1.0 torchvision-0.16.0\n"
     ]
    }
   ],
   "source": [
    "!pip install faiss-cpu\n",
    "!pip install sentence-transformers"
   ]
  },
  {
   "cell_type": "code",
   "execution_count": 3,
   "id": "87b3b33e",
   "metadata": {},
   "outputs": [],
   "source": [
    "import pandas as pd\n",
    "\n",
    "pd.set_option('display.max_colwidth',10)"
   ]
  },
  {
   "cell_type": "code",
   "execution_count": 6,
   "id": "e275e68f",
   "metadata": {},
   "outputs": [
    {
     "data": {
      "text/plain": [
       "(8, 2)"
      ]
     },
     "execution_count": 6,
     "metadata": {},
     "output_type": "execute_result"
    }
   ],
   "source": [
    "df =pd.read_csv(\"sample_text.csv\")\n",
    "df.shape"
   ]
  },
  {
   "cell_type": "code",
   "execution_count": 7,
   "id": "068c4e81",
   "metadata": {},
   "outputs": [
    {
     "data": {
      "text/html": [
       "<div>\n",
       "<style scoped>\n",
       "    .dataframe tbody tr th:only-of-type {\n",
       "        vertical-align: middle;\n",
       "    }\n",
       "\n",
       "    .dataframe tbody tr th {\n",
       "        vertical-align: top;\n",
       "    }\n",
       "\n",
       "    .dataframe thead th {\n",
       "        text-align: right;\n",
       "    }\n",
       "</style>\n",
       "<table border=\"1\" class=\"dataframe\">\n",
       "  <thead>\n",
       "    <tr style=\"text-align: right;\">\n",
       "      <th></th>\n",
       "      <th>text</th>\n",
       "      <th>category</th>\n",
       "    </tr>\n",
       "  </thead>\n",
       "  <tbody>\n",
       "    <tr>\n",
       "      <th>0</th>\n",
       "      <td>Medita...</td>\n",
       "      <td>Health</td>\n",
       "    </tr>\n",
       "    <tr>\n",
       "      <th>1</th>\n",
       "      <td>Fruits...</td>\n",
       "      <td>Health</td>\n",
       "    </tr>\n",
       "    <tr>\n",
       "      <th>2</th>\n",
       "      <td>These ...</td>\n",
       "      <td>Fashion</td>\n",
       "    </tr>\n",
       "    <tr>\n",
       "      <th>3</th>\n",
       "      <td>Vibran...</td>\n",
       "      <td>Fashion</td>\n",
       "    </tr>\n",
       "    <tr>\n",
       "      <th>4</th>\n",
       "      <td>The co...</td>\n",
       "      <td>Event</td>\n",
       "    </tr>\n",
       "    <tr>\n",
       "      <th>5</th>\n",
       "      <td>Navara...</td>\n",
       "      <td>Event</td>\n",
       "    </tr>\n",
       "    <tr>\n",
       "      <th>6</th>\n",
       "      <td>Exciti...</td>\n",
       "      <td>Travel</td>\n",
       "    </tr>\n",
       "    <tr>\n",
       "      <th>7</th>\n",
       "      <td>Maldiv...</td>\n",
       "      <td>Travel</td>\n",
       "    </tr>\n",
       "  </tbody>\n",
       "</table>\n",
       "</div>"
      ],
      "text/plain": [
       "        text category\n",
       "0  Medita...   Health\n",
       "1  Fruits...   Health\n",
       "2  These ...  Fashion\n",
       "3  Vibran...  Fashion\n",
       "4  The co...    Event\n",
       "5  Navara...    Event\n",
       "6  Exciti...   Travel\n",
       "7  Maldiv...   Travel"
      ]
     },
     "execution_count": 7,
     "metadata": {},
     "output_type": "execute_result"
    }
   ],
   "source": [
    "df"
   ]
  },
  {
   "cell_type": "code",
   "execution_count": 9,
   "id": "d8a51664",
   "metadata": {},
   "outputs": [
    {
     "data": {
      "text/plain": [
       "(8, 768)"
      ]
     },
     "execution_count": 9,
     "metadata": {},
     "output_type": "execute_result"
    }
   ],
   "source": [
    "from sentence_transformers import SentenceTransformer\n",
    "encoder = SentenceTransformer(\"all-mpnet-base-v2\")\n",
    "vectors = encoder.encode(df.text)\n",
    "vectors.shape"
   ]
  },
  {
   "cell_type": "code",
   "execution_count": 12,
   "id": "cd87f0f5",
   "metadata": {},
   "outputs": [],
   "source": [
    "dim = vectors.shape[1]"
   ]
  },
  {
   "cell_type": "code",
   "execution_count": 13,
   "id": "81ad3291",
   "metadata": {},
   "outputs": [],
   "source": [
    "import faiss"
   ]
  },
  {
   "cell_type": "code",
   "execution_count": 15,
   "id": "69664bc7",
   "metadata": {},
   "outputs": [
    {
     "data": {
      "text/plain": [
       "<faiss.swigfaiss.IndexFlatL2; proxy of <Swig Object of type 'faiss::IndexFlatL2 *' at 0x12cc36850> >"
      ]
     },
     "execution_count": 15,
     "metadata": {},
     "output_type": "execute_result"
    }
   ],
   "source": [
    "index = faiss.IndexFlatL2(dim)\n",
    "index"
   ]
  },
  {
   "cell_type": "code",
   "execution_count": 16,
   "id": "d41c209f",
   "metadata": {},
   "outputs": [],
   "source": [
    "index.add(vectors)"
   ]
  },
  {
   "cell_type": "code",
   "execution_count": 32,
   "id": "6aa6554b",
   "metadata": {},
   "outputs": [
    {
     "data": {
      "text/plain": [
       "(768,)"
      ]
     },
     "execution_count": 32,
     "metadata": {},
     "output_type": "execute_result"
    }
   ],
   "source": [
    "search_query = \"I want to watch a football match\"\n",
    "vec = encoder.encode(search_query)\n",
    "vec.shape"
   ]
  },
  {
   "cell_type": "code",
   "execution_count": 33,
   "id": "1f658cde",
   "metadata": {},
   "outputs": [
    {
     "data": {
      "text/plain": [
       "array([[-5.97759262e-02,  8.05042591e-03,  1.54705308e-02,\n",
       "        -1.17879696e-02,  3.83465812e-02, -1.84390210e-02,\n",
       "        -3.12087219e-02, -1.34396954e-02,  1.54653154e-02,\n",
       "         6.64722500e-03,  1.40090641e-02, -4.26339135e-02,\n",
       "         1.99003350e-02,  4.20775935e-02,  9.01960507e-02,\n",
       "        -2.78353672e-02,  1.53114963e-02, -3.19063775e-02,\n",
       "         1.84931513e-02, -2.34804917e-02, -5.19094989e-03,\n",
       "         1.69283338e-02, -3.82544398e-02, -5.42222224e-02,\n",
       "        -5.44907786e-02,  3.13108675e-02, -5.70573239e-03,\n",
       "        -1.96887814e-02,  2.45986041e-02, -1.93310566e-02,\n",
       "         3.95996682e-02, -4.70196232e-02, -3.93907586e-03,\n",
       "        -7.38254935e-02,  1.24583710e-06, -1.92107272e-03,\n",
       "         4.47124355e-02, -4.29242291e-02,  1.73553731e-02,\n",
       "         4.47258912e-03, -2.11889893e-02,  3.68961766e-02,\n",
       "        -1.58377213e-03, -1.62929259e-02,  1.46076679e-02,\n",
       "        -7.74940150e-03,  3.45506892e-02,  1.86926767e-03,\n",
       "        -6.01977296e-02,  9.43652540e-02, -3.30188572e-02,\n",
       "        -1.96736753e-02, -1.62679795e-02, -2.30231769e-02,\n",
       "        -2.54587922e-02, -7.79405981e-02,  1.11034615e-02,\n",
       "         4.17218357e-02, -3.33333947e-02,  6.60243556e-02,\n",
       "         4.30339687e-02, -6.85317591e-02,  7.84964021e-03,\n",
       "         1.05748279e-02, -5.66840284e-02,  2.99165342e-02,\n",
       "         1.22110881e-02, -1.96088795e-02,  8.11554398e-03,\n",
       "        -2.33945679e-02, -5.64010106e-02, -4.44079749e-02,\n",
       "        -2.06135269e-02,  6.25289977e-02,  2.77506188e-02,\n",
       "        -2.50802953e-02, -3.00796777e-02,  4.95440140e-02,\n",
       "         4.69112620e-02,  5.17704487e-02,  2.09877975e-02,\n",
       "        -2.57093902e-03,  4.18441482e-02,  4.20365334e-02,\n",
       "         1.46684721e-02,  3.76589783e-02,  3.51806879e-02,\n",
       "         5.74988220e-03, -3.90146114e-02,  3.62657830e-02,\n",
       "        -1.03616156e-02, -3.74814793e-02,  1.19426975e-03,\n",
       "         4.11053421e-03, -5.65452687e-02, -1.36018954e-02,\n",
       "        -3.39270644e-02, -3.89479324e-02, -4.06764522e-02,\n",
       "        -3.33507620e-02,  1.99210122e-02,  2.80482005e-02,\n",
       "         7.20820576e-02,  6.96651125e-03,  1.58684514e-02,\n",
       "        -2.25379169e-02, -8.54662340e-03, -4.35746983e-02,\n",
       "        -1.98763562e-03,  8.63575190e-03, -1.58689357e-02,\n",
       "        -7.30209239e-03, -2.43730168e-03, -1.12181669e-02,\n",
       "        -6.96608126e-02, -1.44000398e-02,  1.87342819e-02,\n",
       "         5.53314239e-02,  8.39614868e-02, -2.67385859e-02,\n",
       "        -8.50603264e-03, -1.99657809e-02,  8.25508907e-02,\n",
       "        -9.11382399e-03, -3.03840321e-02, -1.79220624e-02,\n",
       "        -2.95691323e-02,  1.02145020e-02, -2.55459058e-03,\n",
       "        -4.70579155e-02, -5.55833727e-02,  1.62052866e-02,\n",
       "         2.23990320e-03,  2.45958883e-02, -9.50394105e-03,\n",
       "        -6.83562756e-02, -5.02120964e-02, -1.38048260e-02,\n",
       "         2.04883562e-03, -7.87242875e-03,  3.97382267e-02,\n",
       "        -3.07527389e-02,  1.44478902e-02,  1.58373713e-02,\n",
       "         2.03837478e-03, -3.82507853e-02,  1.02423681e-02,\n",
       "        -1.52943959e-03, -1.54948318e-02, -3.04752216e-02,\n",
       "         6.98968098e-02, -5.75635992e-02, -1.97376385e-02,\n",
       "         9.06417961e-04,  1.79596082e-03, -8.05392675e-03,\n",
       "         6.27013622e-03, -7.70592084e-03, -5.26965223e-02,\n",
       "        -2.68273707e-02,  4.22373693e-03,  5.52525073e-02,\n",
       "        -2.17618681e-02,  2.82383570e-03,  4.27059503e-03,\n",
       "        -8.76531377e-03, -2.76248641e-02, -3.15580554e-02,\n",
       "        -2.33624969e-02,  2.70900279e-02, -5.63157797e-02,\n",
       "        -3.43084037e-02, -8.62556789e-03, -4.15097401e-02,\n",
       "         7.81394169e-02, -4.14859727e-02,  6.04443476e-02,\n",
       "        -1.16874725e-01, -4.12549488e-02,  2.00070860e-03,\n",
       "        -1.01319797e-01, -8.57179165e-02,  9.57055669e-03,\n",
       "         6.51407763e-02,  1.47989662e-02,  1.13706328e-02,\n",
       "         4.06576879e-02,  2.88410969e-02, -2.12269295e-02,\n",
       "        -2.66778115e-02,  4.15560342e-02, -3.30495313e-02,\n",
       "        -9.14661307e-03, -2.31871149e-03, -2.51925760e-03,\n",
       "        -4.57317308e-02,  1.95735637e-02, -3.74818929e-02,\n",
       "         2.82646026e-02,  5.23025990e-02, -2.54558846e-02,\n",
       "        -4.44571041e-02,  8.00841153e-02, -2.76172962e-02,\n",
       "        -4.21405509e-02, -4.06492455e-03, -1.11924196e-02,\n",
       "         3.04179508e-02,  6.30034879e-02,  3.29595618e-02,\n",
       "         4.94464971e-02,  1.20418528e-02,  5.93472570e-02,\n",
       "         1.00088855e-02,  2.42580194e-02,  1.81143843e-02,\n",
       "         2.81894840e-02,  3.77002843e-02,  1.76582448e-02,\n",
       "         4.36898619e-02, -4.89206985e-02, -2.69649457e-02,\n",
       "        -1.51195666e-02,  1.84093099e-02,  6.02532353e-04,\n",
       "         2.34412532e-02,  1.08235022e-02, -3.51978786e-04,\n",
       "        -3.66507955e-02, -1.89763436e-03,  1.45903639e-02,\n",
       "         1.36000589e-02,  3.23397927e-02, -2.26986203e-02,\n",
       "         5.74756600e-02,  4.17738175e-03,  1.47813438e-02,\n",
       "        -3.32672335e-02, -3.40557732e-02, -1.21608645e-01,\n",
       "         9.33579635e-03,  7.61929080e-02,  5.19310683e-02,\n",
       "         3.87283862e-02, -3.79691683e-02,  2.13461947e-02,\n",
       "         6.06288537e-02,  1.52975284e-02, -6.22960925e-03,\n",
       "         5.67763625e-03, -9.74436663e-03,  2.51235310e-02,\n",
       "         3.01059633e-02, -6.15537027e-03, -1.99380908e-02,\n",
       "        -5.81344329e-02, -3.27148549e-02,  2.14870702e-02,\n",
       "        -7.97007382e-02,  1.27773695e-02,  4.33912463e-02,\n",
       "        -2.59321649e-02, -2.16766503e-02,  4.60543521e-02,\n",
       "         2.46797577e-02, -5.50158359e-02,  2.69017834e-02,\n",
       "        -1.88495256e-02, -1.51234828e-02, -1.70635507e-02,\n",
       "         8.11288506e-03,  2.48474665e-02,  2.40462944e-02,\n",
       "        -4.39987145e-02, -1.99844614e-02, -1.27237476e-02,\n",
       "        -4.31843363e-02, -1.94151755e-02, -7.68436876e-04,\n",
       "         1.30259469e-02, -1.23852361e-02,  5.90690635e-02,\n",
       "         2.42399666e-02, -1.96016282e-02, -2.20355578e-03,\n",
       "        -3.83810960e-02, -3.42605747e-02, -9.75741819e-03,\n",
       "        -2.52587516e-02,  3.28035168e-02,  2.21923068e-02,\n",
       "        -1.24597456e-02,  6.34272490e-03,  1.20094130e-02,\n",
       "         1.77106857e-02,  4.45350222e-02, -3.52125317e-02,\n",
       "        -4.75444421e-02,  4.45510969e-02, -4.41011749e-02,\n",
       "        -3.48589779e-03, -9.17241070e-03, -8.04059324e-04,\n",
       "         1.57778226e-02, -4.26529907e-02, -9.42218956e-03,\n",
       "        -7.98326805e-02, -4.14948389e-02,  5.52017726e-02,\n",
       "        -2.54372954e-02, -2.56887190e-02,  1.97926033e-02,\n",
       "        -4.95612845e-02,  2.35928036e-02, -5.48852561e-03,\n",
       "        -2.24755723e-02, -7.87033513e-03,  1.31212836e-02,\n",
       "         5.08609861e-02,  3.03373430e-02,  2.38551404e-02,\n",
       "         1.97684150e-02, -5.27931750e-03, -2.36151442e-02,\n",
       "         5.28659411e-02, -5.72769679e-02, -2.99933925e-02,\n",
       "         4.36777920e-02, -2.98540536e-02, -1.60966031e-02,\n",
       "         5.11785187e-02, -1.67654064e-02,  7.15627009e-03,\n",
       "         3.56376581e-02,  4.06293245e-03, -1.25962519e-03,\n",
       "         3.17789167e-02, -4.63581458e-02,  5.58883809e-02,\n",
       "         1.65032279e-02,  1.70860905e-02,  1.49517953e-02,\n",
       "         2.65531940e-03, -6.16688579e-02, -4.38722782e-02,\n",
       "        -6.94814995e-02,  3.65985073e-02,  4.98798527e-02,\n",
       "        -8.57648998e-02, -7.50067597e-03, -1.88679050e-03,\n",
       "        -3.52347977e-02, -7.86124263e-03, -1.79886855e-02,\n",
       "        -1.45197520e-02, -4.40714369e-03,  3.25449668e-02,\n",
       "         9.29916874e-02,  2.02668887e-02, -1.20461937e-02,\n",
       "        -1.99068282e-02,  4.04403433e-02,  1.58412335e-03,\n",
       "         5.02440743e-02, -5.72589808e-04,  3.15509439e-02,\n",
       "        -1.29401684e-04,  1.77120045e-02, -8.17251578e-02,\n",
       "        -2.40800995e-02,  2.75663193e-02, -9.43965104e-04,\n",
       "         1.59150250e-02,  4.37482558e-02,  9.79056675e-03,\n",
       "        -1.54450992e-02, -3.58955041e-02, -2.14808825e-02,\n",
       "        -1.25324455e-04,  1.30215297e-02,  1.47318812e-02,\n",
       "        -3.75071578e-02, -7.21415924e-03,  7.74360087e-04,\n",
       "         2.48175394e-02, -3.01384516e-02,  9.63404682e-03,\n",
       "         6.82191178e-03,  2.20866762e-02, -2.15994939e-03,\n",
       "         4.05991450e-02,  2.54091807e-02, -9.76197869e-02,\n",
       "        -4.99610836e-03, -1.59791845e-04,  1.66076981e-02,\n",
       "         2.06674505e-02,  1.78210456e-02,  2.61148009e-02,\n",
       "         2.27031540e-02, -4.60192747e-03,  4.27789874e-02,\n",
       "         6.24471297e-03,  7.29556009e-02,  1.15159228e-02,\n",
       "         6.57790229e-02, -2.65591126e-02, -3.05829034e-03,\n",
       "         3.64166982e-02, -4.94405590e-02, -5.03494330e-02,\n",
       "        -2.96885148e-02,  3.36852036e-02,  2.37218547e-03,\n",
       "        -3.54153709e-03, -6.20961301e-02, -8.70258780e-04,\n",
       "        -2.91361231e-02,  7.13362619e-02, -3.62250619e-02,\n",
       "        -6.72242343e-02,  9.66575369e-03,  6.68076947e-02,\n",
       "         3.99221070e-02,  5.76703884e-02,  2.25061942e-02,\n",
       "         4.94556874e-02,  3.28128450e-02, -8.43244977e-03,\n",
       "        -5.81397042e-02,  1.55486269e-02, -7.29551585e-03,\n",
       "        -1.00477700e-04,  5.21798693e-02, -1.15782199e-02,\n",
       "        -7.27791041e-02,  2.83815078e-02,  8.69420767e-02,\n",
       "        -4.82042171e-02,  6.51147217e-02,  3.13946083e-02,\n",
       "        -6.20950898e-03, -8.49046744e-03,  1.56653312e-03,\n",
       "         1.99945420e-02,  5.97891435e-02, -6.03853688e-02,\n",
       "         2.74676215e-02,  1.87903289e-02,  2.47193556e-02,\n",
       "         1.05676511e-02, -4.91469866e-03, -6.68400340e-03,\n",
       "         1.08865211e-02, -1.89385489e-02,  5.14122844e-03,\n",
       "         1.22686531e-02,  6.11812733e-02,  8.94649327e-03,\n",
       "        -1.73425470e-02,  3.41573544e-02,  1.72842387e-02,\n",
       "        -6.63475180e-03,  2.87783202e-02,  8.06694180e-02,\n",
       "        -4.96649742e-02, -5.56813627e-02, -9.22497548e-03,\n",
       "         4.77213189e-02,  2.90041771e-02, -2.32213214e-02,\n",
       "        -2.53098793e-02, -1.41022482e-03, -1.15939770e-02,\n",
       "         1.39316823e-02,  1.67430732e-02,  1.53257903e-02,\n",
       "        -2.95491982e-02,  2.18403023e-02,  3.21466811e-02,\n",
       "         2.09806897e-02,  2.37899739e-02,  1.02066770e-02,\n",
       "         3.19654285e-03, -7.49729620e-03,  6.17503561e-02,\n",
       "         3.69348824e-02,  2.46292241e-02,  3.39428037e-02,\n",
       "        -1.76851207e-03, -4.25494509e-03, -1.57585908e-02,\n",
       "         5.54035790e-03, -5.07919267e-02, -5.48749566e-02,\n",
       "        -3.00311409e-02, -2.87758484e-02, -3.48099805e-02,\n",
       "         5.16070612e-02, -8.66330862e-02, -5.42498101e-03,\n",
       "        -1.60457958e-02,  2.44203266e-02,  5.88910952e-02,\n",
       "        -2.62597632e-02, -3.88089493e-02, -2.76968181e-02,\n",
       "        -4.88151498e-02,  2.80821156e-02,  3.27409455e-03,\n",
       "         4.79381271e-02, -7.83614721e-03,  5.36242090e-02,\n",
       "         1.01852112e-01,  3.20834555e-02,  3.55564170e-02,\n",
       "         3.89382914e-02, -5.51146679e-02, -1.80744007e-02,\n",
       "        -4.97160256e-02,  1.45247262e-02,  1.55856628e-02,\n",
       "         2.04460043e-03,  2.44083777e-02, -1.40019907e-02,\n",
       "         3.49598080e-02, -5.98156126e-03,  1.91563200e-02,\n",
       "         7.85523430e-02, -1.94439664e-02,  7.81252328e-03,\n",
       "        -2.13106303e-03,  1.13628261e-01, -3.42859104e-02,\n",
       "        -2.98004244e-02,  1.68191604e-02,  2.27971282e-02,\n",
       "         4.50246818e-02, -5.68218976e-02,  5.14101572e-02,\n",
       "         2.66003162e-02,  8.16897899e-02, -3.56275812e-02,\n",
       "        -4.42027599e-02, -2.23933496e-02, -8.11805949e-02,\n",
       "         4.63100523e-02, -1.03821745e-03, -5.15534717e-04,\n",
       "         3.81920300e-02,  5.58120571e-03,  4.73758914e-02,\n",
       "        -2.53574215e-02, -2.35774424e-02, -2.49619801e-02,\n",
       "        -5.04857118e-33, -3.70633304e-02, -4.44980105e-03,\n",
       "         1.36508178e-02,  1.97568499e-02, -6.38656691e-02,\n",
       "        -2.58437581e-02, -7.08302483e-03,  7.12164678e-03,\n",
       "        -4.69658002e-02, -9.29383840e-03,  3.14503312e-02,\n",
       "         2.60527693e-02,  2.48119025e-03,  2.30914298e-02,\n",
       "         2.03241687e-02, -1.14870109e-01, -3.87194604e-02,\n",
       "        -1.88459698e-02,  2.17504203e-02, -5.52712828e-02,\n",
       "        -2.42576767e-02, -1.48429302e-02, -2.30422840e-02,\n",
       "         1.20767737e-02, -3.47994976e-02, -2.42962614e-02,\n",
       "        -2.89804004e-02, -1.20348996e-02,  2.31812317e-02,\n",
       "         9.66260768e-03,  6.39348105e-03,  2.24021282e-02,\n",
       "        -1.52596468e-02, -5.69990873e-02, -1.47664845e-02,\n",
       "         1.08134203e-01,  2.77633611e-02,  7.75696151e-03,\n",
       "        -1.01670874e-02,  4.59849574e-02, -4.12912332e-02,\n",
       "        -2.75759883e-02, -7.58526698e-02,  2.98160128e-02,\n",
       "        -1.49518102e-02, -2.67919507e-02, -1.95470527e-02,\n",
       "        -3.42300758e-02, -8.31125129e-04, -3.43332551e-02,\n",
       "        -3.11340000e-02,  1.34831853e-02, -4.10314053e-02,\n",
       "        -6.74211830e-02,  2.01741774e-02,  1.16660660e-02,\n",
       "         2.23134682e-02,  2.96880328e-03,  2.19485871e-02,\n",
       "         7.59984404e-02,  1.47156501e-02,  1.34672998e-02,\n",
       "        -4.14324440e-02, -6.71579689e-02,  9.17193480e-03,\n",
       "        -7.38746068e-03, -5.01916595e-02, -6.27319738e-02,\n",
       "        -4.38356362e-02, -3.72793749e-02,  1.54722529e-03,\n",
       "        -9.35453922e-03, -2.74453145e-02, -8.05462077e-02,\n",
       "        -1.49320709e-02,  1.64920595e-02, -7.05180615e-02,\n",
       "        -3.96151617e-02,  1.52611295e-02,  3.81843559e-02,\n",
       "         3.84320356e-02,  3.13171558e-02,  5.38847670e-02,\n",
       "         6.15167320e-02, -1.37401875e-02, -4.15891595e-02,\n",
       "         2.31810603e-02, -3.77227850e-02, -1.68456472e-02,\n",
       "         2.41916720e-02, -4.33828756e-02, -6.92100301e-02,\n",
       "        -1.28789796e-02, -2.35409848e-03,  3.67729440e-02,\n",
       "        -3.28555307e-03, -9.61884204e-03,  5.43142036e-02,\n",
       "        -3.92212346e-02,  5.01475334e-02,  3.63765359e-02,\n",
       "         9.40989237e-03, -1.37007209e-02, -2.58942544e-02,\n",
       "         1.52897006e-02,  1.99494101e-02, -2.31912304e-02,\n",
       "         2.68844068e-02, -9.68162785e-04, -9.74987447e-03,\n",
       "         1.79624502e-02,  1.56496000e-02, -2.53994088e-03,\n",
       "        -9.66774300e-03,  2.06092186e-02,  1.02724740e-02,\n",
       "         1.48582123e-02,  3.31152380e-02, -3.14076729e-02,\n",
       "        -1.48980161e-02,  6.79730177e-02, -1.83448810e-02,\n",
       "        -8.45778268e-03, -2.89602336e-02, -8.25068820e-03,\n",
       "         2.42723152e-02, -4.03881855e-02,  2.38546524e-02,\n",
       "        -7.77584035e-03,  9.72307473e-03, -2.13284008e-02,\n",
       "        -4.31073830e-03,  2.00235533e-07, -1.09881563e-02,\n",
       "         5.54467998e-02, -1.14643825e-02,  8.51487741e-02,\n",
       "        -2.92951660e-03,  3.61617160e-04, -2.47872304e-02,\n",
       "         6.65508732e-02,  2.98958155e-04,  1.70535855e-02,\n",
       "        -3.16721126e-02,  1.27420458e-03,  1.46150254e-02,\n",
       "        -2.42657712e-04, -2.89415326e-02, -2.28551533e-02,\n",
       "        -8.62735696e-03,  7.73820234e-03,  6.98021427e-02,\n",
       "        -2.35611293e-02,  1.32794620e-03,  7.10017979e-02,\n",
       "         3.47813480e-02,  4.05917503e-02,  1.53514054e-02,\n",
       "         3.16134319e-02, -2.07967889e-02, -3.55663598e-02,\n",
       "        -6.74639940e-02, -2.56074928e-02, -2.94573163e-03,\n",
       "         3.43456771e-03, -7.68246548e-03,  1.92129463e-02,\n",
       "         1.60645023e-02,  2.17882660e-03,  1.30930869e-02,\n",
       "         1.67022422e-02, -1.25465011e-02,  2.05392875e-02,\n",
       "        -4.84041125e-02, -1.04004461e-02, -2.80860811e-02,\n",
       "         2.19375417e-02,  6.28612414e-02, -2.89665125e-02,\n",
       "        -3.52577902e-02, -5.31291775e-03, -3.35893631e-02,\n",
       "        -2.01244093e-02, -2.82425750e-02,  4.72015003e-03,\n",
       "         8.51304084e-03, -6.86055496e-02, -2.40280657e-04,\n",
       "         2.87978910e-02,  4.21722196e-02,  3.45142670e-02,\n",
       "         2.04189513e-02,  3.52033228e-02,  1.28498487e-02,\n",
       "         4.16056477e-02, -5.21913618e-02,  7.08757564e-02,\n",
       "        -2.57868394e-02,  3.65737453e-03, -8.40731803e-03,\n",
       "         7.39290553e-35,  2.02565864e-02,  6.74991384e-02,\n",
       "        -5.49092293e-02, -1.74682066e-02, -5.48067875e-02,\n",
       "        -5.41993901e-02,  1.55423768e-02,  4.19759378e-02,\n",
       "         3.54256406e-02, -1.35174301e-02,  1.13739902e-02]], dtype=float32)"
      ]
     },
     "execution_count": 33,
     "metadata": {},
     "output_type": "execute_result"
    }
   ],
   "source": [
    "import numpy as np\n",
    "svec = np.array(vec).reshape(1,-1)\n",
    "svec.shape\n",
    "svec"
   ]
  },
  {
   "cell_type": "code",
   "execution_count": 34,
   "id": "d075300d",
   "metadata": {},
   "outputs": [],
   "source": [
    "distances , I = index.search(svec,k=2)"
   ]
  },
  {
   "cell_type": "code",
   "execution_count": 35,
   "id": "fc73916d",
   "metadata": {},
   "outputs": [
    {
     "data": {
      "text/plain": [
       "array([[4, 5]])"
      ]
     },
     "execution_count": 35,
     "metadata": {},
     "output_type": "execute_result"
    }
   ],
   "source": [
    "I"
   ]
  },
  {
   "cell_type": "code",
   "execution_count": 36,
   "id": "ab1a9567",
   "metadata": {},
   "outputs": [
    {
     "data": {
      "text/html": [
       "<div>\n",
       "<style scoped>\n",
       "    .dataframe tbody tr th:only-of-type {\n",
       "        vertical-align: middle;\n",
       "    }\n",
       "\n",
       "    .dataframe tbody tr th {\n",
       "        vertical-align: top;\n",
       "    }\n",
       "\n",
       "    .dataframe thead th {\n",
       "        text-align: right;\n",
       "    }\n",
       "</style>\n",
       "<table border=\"1\" class=\"dataframe\">\n",
       "  <thead>\n",
       "    <tr style=\"text-align: right;\">\n",
       "      <th></th>\n",
       "      <th>text</th>\n",
       "      <th>category</th>\n",
       "    </tr>\n",
       "  </thead>\n",
       "  <tbody>\n",
       "    <tr>\n",
       "      <th>4</th>\n",
       "      <td>The co...</td>\n",
       "      <td>Event</td>\n",
       "    </tr>\n",
       "    <tr>\n",
       "      <th>5</th>\n",
       "      <td>Navara...</td>\n",
       "      <td>Event</td>\n",
       "    </tr>\n",
       "  </tbody>\n",
       "</table>\n",
       "</div>"
      ],
      "text/plain": [
       "        text category\n",
       "4  The co...    Event\n",
       "5  Navara...    Event"
      ]
     },
     "execution_count": 36,
     "metadata": {},
     "output_type": "execute_result"
    }
   ],
   "source": [
    "df.loc[I[0]]"
   ]
  },
  {
   "cell_type": "code",
   "execution_count": 37,
   "id": "794d8c28",
   "metadata": {},
   "outputs": [
    {
     "data": {
      "text/plain": [
       "'I want to watch a football match'"
      ]
     },
     "execution_count": 37,
     "metadata": {},
     "output_type": "execute_result"
    }
   ],
   "source": [
    "search_query"
   ]
  },
  {
   "cell_type": "code",
   "execution_count": null,
   "id": "ae76d7f7",
   "metadata": {},
   "outputs": [],
   "source": [
    " "
   ]
  }
 ],
 "metadata": {
  "kernelspec": {
   "display_name": "Python 3 (ipykernel)",
   "language": "python",
   "name": "python3"
  },
  "language_info": {
   "codemirror_mode": {
    "name": "ipython",
    "version": 3
   },
   "file_extension": ".py",
   "mimetype": "text/x-python",
   "name": "python",
   "nbconvert_exporter": "python",
   "pygments_lexer": "ipython3",
   "version": "3.11.5"
  }
 },
 "nbformat": 4,
 "nbformat_minor": 5
}
